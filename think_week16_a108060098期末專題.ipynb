{
  "nbformat": 4,
  "nbformat_minor": 0,
  "metadata": {
    "colab": {
      "name": "Untitled17.ipynb",
      "provenance": [],
      "authorship_tag": "ABX9TyOMCm06D7m0p86n5kxjgXDU",
      "include_colab_link": true
    },
    "kernelspec": {
      "name": "python3",
      "display_name": "Python 3"
    }
  },
  "cells": [
    {
      "cell_type": "markdown",
      "metadata": {
        "id": "view-in-github",
        "colab_type": "text"
      },
      "source": [
        "<a href=\"https://colab.research.google.com/github/arimie333/Computational-Thinking-and-Program-Design-Final-Report/blob/master/think_week16_a108060098%E6%9C%9F%E6%9C%AB%E5%B0%88%E9%A1%8C.ipynb\" target=\"_parent\"><img src=\"https://colab.research.google.com/assets/colab-badge.svg\" alt=\"Open In Colab\"/></a>"
      ]
    },
    {
      "cell_type": "code",
      "metadata": {
        "id": "wPe26FZAh_Xx",
        "colab_type": "code",
        "colab": {
          "base_uri": "https://localhost:8080/",
          "height": 102
        },
        "outputId": "96ca1326-609c-4d61-b3c2-30b7078333bc"
      },
      "source": [
        "#自我介紹\n",
        "\n",
        "n = 0  #初始條件\n",
        "while n < 3 :  #判斷條件\n",
        "  print(\"歡迎光臨,我是您的點餐機器人Amy\")  \n",
        "  n = n + 1  #更新條件\n",
        "\n",
        "print(\"請問您的名字是?\")\n",
        "name = input(\"我的名字是\")"
      ],
      "execution_count": 1,
      "outputs": [
        {
          "output_type": "stream",
          "text": [
            "歡迎光臨,我是您的點餐機器人Amy\n",
            "歡迎光臨,我是您的點餐機器人Amy\n",
            "歡迎光臨,我是您的點餐機器人Amy\n",
            "請問您的名字是?\n",
            "我的名字是Jay\n"
          ],
          "name": "stdout"
        }
      ]
    },
    {
      "cell_type": "code",
      "metadata": {
        "id": "odn54t7ViDaS",
        "colab_type": "code",
        "colab": {
          "base_uri": "https://localhost:8080/",
          "height": 170
        },
        "outputId": "ed20da16-56a6-4411-fbc7-c83a8ecd95b5"
      },
      "source": [
        "#點主餐\n",
        "\n",
        "serve = input(\"今天想要什麼服務呢?\")\n",
        "if serve ==\"呼叫櫃台人員\" :\n",
        "    print(\"正在為您撥打電話,請稍後...\")\n",
        "else :\n",
        "  print(\"我們沒有這項服務喔!\")\n",
        "\n",
        "serve = input(\"需要點餐服務嗎?\")\n",
        "if serve ==\"好\" :\n",
        "    print(\"我們的餐點有:鮪魚壽司定貫、鮭魚壽司定貫、菲力牛排套餐、銀雪香煎套餐、黑松板豬套餐、嫩煎雞排套餐、什錦五蔬套餐、嫩烤羊腿套餐、鹽烤秋刀魚套餐、沙朗牛排套餐,以上套餐均附前菜（沙拉或餐包或醃漬梅）、湯（洋蔥湯或蘑菇濃湯）、甜品（紅豆麻糬或紫泥芋球）\")\n",
        "\n",
        "food =\"鮭魚壽司定貫\"\n",
        "print(\"我的餐點要\",food)\n",
        "\n",
        "if food == \"鮭魚壽司定貫\" :\n",
        "    print(\"不好意思喔!鮭魚還在海裡游抓不到,我幫您推薦點菲力牛排套餐!\")\n",
        "else :\n",
        "  print(\"客人您別鬧\")\n",
        "\n",
        "print(\"好!!!吧!\")\n",
        "\n",
        "steak = input(\"客人菲力要幾分熟呢?\")\n",
        "print(\"好的。\")"
      ],
      "execution_count": 2,
      "outputs": [
        {
          "output_type": "stream",
          "text": [
            "今天想要什麼服務呢?呼叫櫃台人員\n",
            "正在為您撥打電話,請稍後...\n",
            "需要點餐服務嗎?好\n",
            "我們的餐點有:鮪魚壽司定貫、鮭魚壽司定貫、菲力牛排套餐、銀雪香煎套餐、黑松板豬套餐、嫩煎雞排套餐、什錦五蔬套餐、嫩烤羊腿套餐、鹽烤秋刀魚套餐、沙朗牛排套餐,以上套餐均附前菜（沙拉或餐包或醃漬梅）、湯（洋蔥湯或蘑菇濃湯）、甜品（紅豆麻糬或紫泥芋球）\n",
            "我的餐點要 鮭魚壽司定貫\n",
            "不好意思喔!鮭魚還在海裡游抓不到,我幫您推薦點菲力牛排套餐!\n",
            "好!!!吧!\n",
            "客人菲力要幾分熟呢?五分熟\n",
            "好的。\n"
          ],
          "name": "stdout"
        }
      ]
    },
    {
      "cell_type": "code",
      "metadata": {
        "id": "1ISkSFAQiDqr",
        "colab_type": "code",
        "colab": {
          "base_uri": "https://localhost:8080/",
          "height": 136
        },
        "outputId": "616c410d-5b54-4015-9e44-cef0d6133341"
      },
      "source": [
        "#點沙拉\n",
        "\n",
        "print(name,\"我看您氣色不好,可以幫您前菜點沙拉好嗎?\")\n",
        "print(\"好,謝謝\")\n",
        "\n",
        "print(\"我們的沙拉有:海鮮沙拉 生菜沙拉 雞肉沙拉\")\n",
        "salad = \"海鮮沙拉\"\n",
        "print(\"我的沙拉要\",salad)\n",
        "\n",
        "if salad == \"雞肉沙拉\" :\n",
        "    print(\"雞肉太老了因為是老母雞\")\n",
        "elif salad == \"海鮮沙拉\" :\n",
        "      print(\"好的沒問題!\")\n",
        "else :\n",
        "  print(\"吃菜就好\")\n",
        "\n",
        "sauce = input(\"那您需要什麼醬呢?\")\n",
        "if sauce ==\"和風醬\" :\n",
        "    print(\"很日式呢!\")\n",
        "elif sauce ==\"胡麻醬\" :\n",
        "      print(\"很胡麻呢!\")\n",
        "else :\n",
        "  print(\"啊醬沒了!沒關係吃原味就好\")\n"
      ],
      "execution_count": 3,
      "outputs": [
        {
          "output_type": "stream",
          "text": [
            "Jay 我看您氣色不好,可以幫您前菜點沙拉好嗎?\n",
            "好,謝謝\n",
            "我們的沙拉有:海鮮沙拉 生菜沙拉 雞肉沙拉\n",
            "我的沙拉要 海鮮沙拉\n",
            "好的沒問題!\n",
            "那您需要什麼醬呢?凱薩醬\n",
            "啊醬沒了!沒關係吃原味就好\n"
          ],
          "name": "stdout"
        }
      ]
    },
    {
      "cell_type": "code",
      "metadata": {
        "id": "lGrdM0WFiDzD",
        "colab_type": "code",
        "colab": {
          "base_uri": "https://localhost:8080/",
          "height": 68
        },
        "outputId": "2d20cf8e-8846-44b5-8f04-ebc06c1c278d"
      },
      "source": [
        "#點湯\n",
        "\n",
        "soup = input(\"好喔客人!那湯品有洋蔥湯跟蘑菇濃湯要哪一種呢?\")\n",
        "if soup ==\"洋蔥湯\" :\n",
        "    print(\"不好意思洋蔥剩一點,我幫您加洋蔥圈,味道也有洋蔥味,差不多啦!\")\n",
        "else :\n",
        "  print(\"好的\")\n",
        "\n",
        "print(\"客人:喔...好喔...\")"
      ],
      "execution_count": 4,
      "outputs": [
        {
          "output_type": "stream",
          "text": [
            "好喔客人!那湯品有洋蔥湯跟蘑菇濃湯要哪一種呢?洋蔥湯\n",
            "不好意思洋蔥剩一點,我幫您加洋蔥圈,味道也有洋蔥味,差不多啦!\n",
            "客人:喔...好喔...\n"
          ],
          "name": "stdout"
        }
      ]
    },
    {
      "cell_type": "code",
      "metadata": {
        "id": "nmoNpCSliD9N",
        "colab_type": "code",
        "colab": {
          "base_uri": "https://localhost:8080/",
          "height": 68
        },
        "outputId": "0c1a9b35-10c0-4bcc-e3f3-ce5b5a2d81b3"
      },
      "source": [
        "#點甜點\n",
        "\n",
        "dessert = input(\"那最後甜點有紅豆麻糬跟紫泥芋球,請問要哪款呢?\")\n",
        "if dessert ==\"紫泥芋球\" :\n",
        "    print(\"好的!\",name,\"紫泥芋球要盡快吃,不然會融化,就不好吃了!\")\n",
        "else :\n",
        "  print(\"紅豆跟麻糬很搭呢!\")    \n",
        "print(\"客人:了解\")"
      ],
      "execution_count": 5,
      "outputs": [
        {
          "output_type": "stream",
          "text": [
            "那最後甜點有紅豆麻糬跟紫泥芋球,請問要哪款呢?紅豆麻糬\n",
            "紅豆跟麻糬很搭呢!\n",
            "客人:了解\n"
          ],
          "name": "stdout"
        }
      ]
    },
    {
      "cell_type": "code",
      "metadata": {
        "id": "_UGSXe-4iEF4",
        "colab_type": "code",
        "colab": {
          "base_uri": "https://localhost:8080/",
          "height": 68
        },
        "outputId": "fd4d7081-9866-4717-b0e8-1494ccec74b2"
      },
      "source": [
        "#結帳\n",
        "\n",
        "print(name,\"您的餐點總共1487元\")\n",
        "print(\"期待\",name,\"下次光臨,您的光顧是我們的感動,啾咪!\")\n",
        "print(\"客人:真的會感動,因為我不會再來了\")"
      ],
      "execution_count": 6,
      "outputs": [
        {
          "output_type": "stream",
          "text": [
            "Jay 您的餐點總共1487元\n",
            "期待 Jay 下次光臨,您的光顧是我們的感動,啾咪!\n",
            "客人:真的會感動,因為我不會再來了\n"
          ],
          "name": "stdout"
        }
      ]
    },
    {
      "cell_type": "code",
      "metadata": {
        "id": "SY5Ia4HJiERl",
        "colab_type": "code",
        "colab": {
          "base_uri": "https://localhost:8080/",
          "height": 68
        },
        "outputId": "f2bf1f96-b757-4b83-940f-d635a185861b"
      },
      "source": [
        "#道別\n",
        "\n",
        "n = 0  #初始條件\n",
        "while n < 3 :  #判斷條件\n",
        "  print(\"謝謝惠顧,我是您的點餐機器人Amy\")\n",
        "  n = n + 1 #更新條件"
      ],
      "execution_count": 7,
      "outputs": [
        {
          "output_type": "stream",
          "text": [
            "謝謝惠顧,我是您的點餐機器人Amy\n",
            "謝謝惠顧,我是您的點餐機器人Amy\n",
            "謝謝惠顧,我是您的點餐機器人Amy\n"
          ],
          "name": "stdout"
        }
      ]
    }
  ]
}